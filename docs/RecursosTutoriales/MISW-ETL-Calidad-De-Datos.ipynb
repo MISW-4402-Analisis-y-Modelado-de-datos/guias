{
 "cells": [
  {
   "cell_type": "markdown",
   "metadata": {},
   "source": [
    "# Autoevaluación: Calidad de datos aplicada al proyecto\n",
    "## Introducción\n",
    "    ¿Qué encontrará? \n",
    "    En esta guía vas a encontrar algunas preguntas que ayudan a orientar un correcto análisis preliminar de calidad de datos.\n",
    "\n",
    "    ¿Qué construirá?\n",
    "    En este tutorial realizarás un análisis preliminar de la calidad de los datos utilizando PySpark\n",
    "\n",
    "    ¿Para qué?\n",
    "    Adelantar entendimiento de datos del proyecto y validar la estrategia definida para el trabajo en equipo\n",
    "    \n",
    "    ¿Qué necesita?\n",
    "    Los siguientes requisitos se encuentran instalados en la máquina virtual asignada a cada estudiante, específicamente en el ambiente de anaconda llamado \"base\". Recuerde que tiene a su disposición el tutorial de conexión a máquinas virtuales en la semana 1 de Coursera\n",
    "    1. Python 3 con pip instalado\n",
    "    2. Jupyter Labs\n",
    "    3. Paquetes: Pyspark (3.2.1), pandas (1.2.1), numpy (1.20.0) y matplotlib (3.3.4)\n",
    "    Otros:\n",
    "    1. Controlador Connector J(ya se encuentra configurado)\n",
    "    2. Acceso a servidor remoto MySQL con base de datos relacional \"WWImportersTransactional\". Recuerde que tiene a su disposición el tutorial de conexión remoto a Mysql en la semana 1 de Coursera\n",
    "\n",
    "## Intrucciones\n",
    "A continuación vas a encontrar unas preguntas que ayudarán a guiar un análisis preliminar de calidad de datos. Al final de cada pregunta reflexiona sobre la relación que existe entre esa pregunta y alguna de las dimensiones de calidad definidas en el curso.\n",
    "\n",
    "El enunciado completo del entendimiento de datos del proyecto lo encuentran en la siguiente semana. Por lo pronto, Infraestructura Visible le comenta que los datos compartidos para el proyecto son registros de vuelos, aeropuertos, información de centros poblados (se asume que un aeropuerto está ubicado en un centro poblado), información de proyección de población y de PIB (Producto Interno Bruto) por departamentos.\n",
    "Adicionalmente, le comparte una serie de análisis que le gustaría hacer con las fuentes compartidas:\n",
    "1.\tAnálisis 1: ¿Cuántos pasajeros salieron de Medellín a Cali durante temporadas altas? (e.g., Semana santa). En general quiere aplicar este análisis a diferentes ciudades de Colombia.\n",
    "2.\tAnálisis 2: ¿Qué departamento de Colombia tiene mayor número de sillas salientes desaprovechadas en 2015?\n",
    "3.\tAnálisis 3: ¿Qué aeropuerto representa mayor exportación internacional en términos de carga?\n",
    "4.\tAnálisis 4: Top 3 de aeropuertos nacionales que podrían reducir su presupuesto en aviones debido a que no transportan un mínimo del 50% de la capacidad que tienen en carga\n",
    "5.\tAnálisis 5: ¿Qué áreas de Colombia no tienen cobertura?, ¿cuáles serían los puntos estratégicos para construir aeropuertos con el fin de lograr la cobertura a dichas áreas?\n",
    "\n",
    "\n",
    "## **Recursos requeridos**\n",
    "\n",
    "***Datos suministrados***\n",
    "\n",
    "Los datos los puedes encontrar en la base de datos: ProyectoTransaccional del servidor que manejamos en los tutoriales. También puede encontrar el diccionario de los mismos [aquí](https://github.com/MISW-4402-Analisis-y-Modelado-de-datos/guias/blob/main/docs/Proyecto/Diccionario%20IV.xlsx), ambos recursos requeridos para el desarrollo de esta tarea. Las tablas compartidas son copias de las tablas de los sistemas transaccionales. \n",
    "\n",
    "Con el fin de aportar en la organización del trabajo al interior de los grupos, se sugiere que uno de los estudiantes del grupo se encargue de las tablas divipolaCopia y pibCopia. Los otros 3 estudiantes pueden escoger cualquiera de las otras 3 tablas.\n",
    "-\taeropuertosCopia\n",
    "-\tdivipolaCopia\n",
    "-\tvuelosCopia\n",
    "-\tpibCopia\n",
    "-\tproyeccionesCopia\n",
    "\n",
    "***Tecnología***\n",
    "\n",
    "Recuerda que está el tutorial de “Entendimiento de datos”, que será de utilidad para el uso de la tecnología utilizada en esta tarea.\n",
    "- JupyterLab\n",
    "- Pyspark\n",
    "## Análisis de calidad de datos\n",
    "\n",
    "La calidad de los datos consiste en validar la idoneidad de los datos analizando varias dimensiones, entre las cuales resaltamos:\n",
    "\n",
    "- Completitud: Datos que no existen o no se conocen.\n",
    "- Unicidad (Duplicidad): Datos que son idénticos en diferentes registros o registros con valores idénticos en atributos en los que no debería ocurrir\n",
    "- Consistencia: Esta medida se define por la correctitud o integridad del dato, en la definición de su estructura, al interior de una fila o entre diferentes filas de la misma fuente o de diferentes fuentes. El manejo de unidades en los datos y el significado del dato son generadores de inconsistencias.\n",
    "- Validez: a nivel de formato y de sentido de los datos más alla de sus valores\n",
    "\n",
    "Te invito a revisar los recursos de calidad de datos que hemos visto en el curso.\n"
   ]
  },
  {
   "cell_type": "markdown",
   "metadata": {},
   "source": [
    "## Configuración e importe de paquetes"
   ]
  },
  {
   "cell_type": "code",
   "execution_count": null,
   "metadata": {},
   "outputs": [],
   "source": [
    "from pyspark.sql import SparkSession\n",
    "from pyspark.sql import functions\n",
    "from pyspark.sql.types import StructType\n",
    "from pyspark import SparkContext, SparkConf, SQLContext\n",
    "from pyspark.sql.types import FloatType, StringType, IntegerType, DateType\n",
    "from pyspark.sql.functions import udf, col, length, isnan, when, count\n",
    "import pyspark.sql.functions as f\n",
    "import os \n",
    "from datetime import datetime\n",
    "from pyspark.sql import types as t\n",
    "from pandas_profiling import ProfileReport\n",
    "#import matplotlib.pyplot as plt\n",
    "import numpy as np"
   ]
  },
  {
   "cell_type": "code",
   "execution_count": null,
   "metadata": {},
   "outputs": [],
   "source": [
    "path_jar_driver = 'C:\\Program Files (x86)\\MySQL\\Connector J 8.0\\mysql-connector-java-8.0.28.jar'"
   ]
  },
  {
   "cell_type": "code",
   "execution_count": null,
   "metadata": {},
   "outputs": [],
   "source": [
    "#Configuración de la sesión\n",
    "conf=SparkConf() \\\n",
    "    .set('spark.driver.extraClassPath', path_jar_driver)\n",
    "\n",
    "spark_context = SparkContext(conf=conf)\n",
    "sql_context = SQLContext(spark_context)\n",
    "spark = sql_context.sparkSession"
   ]
  },
  {
   "cell_type": "code",
   "execution_count": null,
   "metadata": {},
   "outputs": [],
   "source": [
    "# Si quiere practicar la conexion con el servidor de base de datos:\n",
    "db_connection_string = 'jdbc:mysql://157.253.236.116:8080/ProyectoTransaccional'\n",
    "# El usuario es su estudiante _i asignado y su contraseña la encontrará en el archivo excel de Coursera \n",
    "db_user = ''\n",
    "db_psswd = ''\n",
    "\n",
    "PATH='./'"
   ]
  },
  {
   "cell_type": "markdown",
   "metadata": {},
   "source": [
    "#### Conexión a fuente de datos\n",
    "A continuación encuentra las funciones para conectarse a la fuente de datos (archivo csv o base de datos) y retornar un dataframe que es el que se utilizará posteriormente para manipular los datos."
   ]
  },
  {
   "cell_type": "code",
   "execution_count": null,
   "metadata": {},
   "outputs": [],
   "source": [
    "def obtener_dataframe_de_bd(db_connection_string, sql, db_user, db_psswd):\n",
    "    df_bd = spark.read.format('jdbc')\\\n",
    "        .option('url', db_connection_string) \\\n",
    "        .option('dbtable', sql) \\\n",
    "        .option('user', db_user) \\\n",
    "        .option('password', db_psswd) \\\n",
    "        .option('driver', 'com.mysql.cj.jdbc.Driver') \\\n",
    "        .load()\n",
    "    return df_bd"
   ]
  },
  {
   "cell_type": "markdown",
   "metadata": {},
   "source": [
    "### Ejemplo de cómo encontrará las respuestas al final\n",
    "    En cada una de las preguntas encontrará una función dónde deberá modificar el método para retornar el valor especificado en los comentarios dados antes de la definición de la función."
   ]
  },
  {
   "cell_type": "code",
   "execution_count": 2,
   "metadata": {},
   "outputs": [],
   "source": [
    "#(Explicación) Función que tiene como objetivo devolver la cantidad de horas del día \n",
    "#(La respuesta que se espera) Return: Un número. Ejemplo:5000\n",
    "#(Extras) No cambiar el nombre de las funcion.\n",
    "def EjemploFuncionResultadoDelEstudiante():\n",
    "    # Inserte acá su código para encontrar la cantidad de horas del día \n",
    "    return 24"
   ]
  },
  {
   "cell_type": "markdown",
   "metadata": {},
   "source": [
    "    Al final de este documento encontrára unos \"asserts\" que utilizarán la función que usted creó y comparará con la respuesta correcta. En caso de que sea acertado obtendrá el siguiene mensaje."
   ]
  },
  {
   "cell_type": "code",
   "execution_count": 3,
   "metadata": {},
   "outputs": [
    {
     "name": "stdout",
     "output_type": "stream",
     "text": [
      "Salió bien la prueba de ejemplo de los datos de Ejemplo\n"
     ]
    }
   ],
   "source": [
    "respuestaReal=24\n",
    "assert EjemploFuncionResultadoDelEstudiante()==respuestaReal, \"Tiene un error, en la prueba de ejemplo se esperaba \"+str(respuesta)+\" y se obtuvo \"+ ejemplo()\n",
    "print(\"Salió bien la prueba de ejemplo de los datos de Ejemplo\")"
   ]
  },
  {
   "cell_type": "markdown",
   "metadata": {},
   "source": [
    "    En caso de que sea incorrecto saldría un error, como se presenta a continuación. "
   ]
  },
  {
   "cell_type": "code",
   "execution_count": 6,
   "metadata": {},
   "outputs": [
    {
     "ename": "AssertionError",
     "evalue": "Tiene un error, en la prueba de ejemplo se esperaba 24 y se obtuvo 23",
     "output_type": "error",
     "traceback": [
      "\u001b[1;31m---------------------------------------------------------------------------\u001b[0m",
      "\u001b[1;31mAssertionError\u001b[0m                            Traceback (most recent call last)",
      "Input \u001b[1;32mIn [6]\u001b[0m, in \u001b[0;36m<cell line: 2>\u001b[1;34m()\u001b[0m\n\u001b[0;32m      1\u001b[0m respuesta\u001b[38;5;241m=\u001b[39m\u001b[38;5;241m23\u001b[39m\n\u001b[1;32m----> 2\u001b[0m \u001b[38;5;28;01massert\u001b[39;00m EjemploFuncionResultadoDelEstudiante()\u001b[38;5;241m==\u001b[39mrespuesta, \u001b[38;5;124m\"\u001b[39m\u001b[38;5;124mTiene un error, en la prueba de ejemplo se esperaba \u001b[39m\u001b[38;5;124m\"\u001b[39m\u001b[38;5;241m+\u001b[39m\u001b[38;5;28mstr\u001b[39m(EjemploFuncionResultadoDelEstudiante())\u001b[38;5;241m+\u001b[39m\u001b[38;5;124m\"\u001b[39m\u001b[38;5;124m y se obtuvo \u001b[39m\u001b[38;5;124m\"\u001b[39m\u001b[38;5;241m+\u001b[39m \u001b[38;5;28mstr\u001b[39m(respuesta)\n\u001b[0;32m      3\u001b[0m \u001b[38;5;28mprint\u001b[39m(\u001b[38;5;124m\"\u001b[39m\u001b[38;5;124mSalió bien la prueba de ejemplo de los datos de Ejemplo\u001b[39m\u001b[38;5;124m\"\u001b[39m)\n",
      "\u001b[1;31mAssertionError\u001b[0m: Tiene un error, en la prueba de ejemplo se esperaba 24 y se obtuvo 23"
     ]
    }
   ],
   "source": [
    "respuesta=23\n",
    "assert EjemploFuncionResultadoDelEstudiante()==respuesta, \"Tiene un error, en la prueba de ejemplo se esperaba \"+str(EjemploFuncionResultadoDelEstudiante())+\" y se obtuvo \"+ str(respuesta)\n",
    "print(\"Salió bien la prueba de ejemplo de los datos de Ejemplo\")"
   ]
  },
  {
   "cell_type": "markdown",
   "metadata": {},
   "source": [
    "# Nota: esta actividad no es calificable. Sin embargo, le permite avanzar en el entregable de entendimiento de datos."
   ]
  },
  {
   "cell_type": "markdown",
   "metadata": {},
   "source": [
    "### Fuente de datos PIB\n",
    "    1. ¿Cuantos duplicados totales y lógicos(en un subconjunto de columnas en las cuales no debería ocurrir), hay en la fuente de datos de PIB?\n",
    "    2. ¿Cuáles años diferentes hay la fuente de datos de PIB?\n",
    "    A continuación desarrolle las funciones para poder dar respuesta a las anteriores preguntas sobre la fuente de datos PIB"
   ]
  },
  {
   "cell_type": "code",
   "execution_count": 7,
   "metadata": {},
   "outputs": [],
   "source": [
    "#Función que tiene como objetivo devolver la cantidad de duplicados lógicos que tienen la fuente de datos PIB\n",
    "# Return: Un número. Ejemplo:5000\n",
    "# No cambiar el nombre de las funcion.\n",
    "def duplicadoslogicos():\n",
    "    # Inserte acá su código para encontrar la cantidad de duplicadod lógicos que tiene la fuente de datos PIB \n",
    "    return 5002"
   ]
  },
  {
   "cell_type": "code",
   "execution_count": null,
   "metadata": {},
   "outputs": [],
   "source": [
    "#Función que tiene como objetivo devolver la cantidad de duplicados totales que tienen la fuente de datos PIB\n",
    "# Return: Un número. Ejemplo:5000\n",
    "# No cambiar el nombre de las funcion.\n",
    "def duplicadosTotales():\n",
    "    # Inserte acá su código para encontrar la cantidad de duplicados totales que tiene la fuente de datos PIB \n",
    "    return 5001"
   ]
  },
  {
   "cell_type": "code",
   "execution_count": null,
   "metadata": {},
   "outputs": [],
   "source": [
    "#Función que tiene como objetivo devolver los años diferentes que tienen la fuente de datos PIB\n",
    "# Return: Array de números. Ejemplo:[2013,2014,2015]\n",
    "# No cambiar el nombre de las funcion.\n",
    "def aniosEnPIB():\n",
    "    # Inserte acá su código para encontrar la cantidad de años diferentes que tiene la fuente de datos PIB \n",
    "    return [2013,2014,2015]"
   ]
  },
  {
   "cell_type": "markdown",
   "metadata": {},
   "source": [
    "### Fuente de datos Proyecciones\n",
    "    3. ¿Cuantos hombres hay por departamento para el año 2014 en la fuente de datos de proyecciones?\n",
    "    4. ¿Cuales son los 2 valores máximos de la fuente de datos de proyecciones?\n",
    "    A continuación desarrolle las funciones para poder dar respuesta a las anteriores preguntas sobre la fuente de datos proyecciones"
   ]
  },
  {
   "cell_type": "code",
   "execution_count": null,
   "metadata": {},
   "outputs": [],
   "source": [
    "#Función que tiene como objetivo devolver la cantidad de hombres en el 2014 que tiene la fuente de datos Proyecciones\n",
    "# Return: \n",
    "#         Diccionario con llave el nombre de la columna departamento y valor el número de hombres que tiene en el año 2014. \n",
    "#         Ejemplo:{\"Antioquia\":2300,\"Antioquita\":5899,\"Santander\":12344}\n",
    "# No cambiar el nombre de las funcion.\n",
    "def hombresDepart2014():\n",
    "    # Inserte acá su código para encontrar la cantidad de hombres por departamento que tienen en el año 2014\n",
    "    return {\"Antioquia\":2300,\"Antioquita\":5899,\"Santander\":12344}\n",
    "    "
   ]
  },
  {
   "cell_type": "code",
   "execution_count": null,
   "metadata": {},
   "outputs": [],
   "source": [
    "#Función que tiene como objetivo devolver los 2 valores máximos que tienen la fuente de datos Proyecciones en la columna \"\"\n",
    "# Return: Array de 2 números. Ejemplo:[25000,5000000]\n",
    "# No cambiar el nombre de las funcion.\n",
    "def valoresMaximos():\n",
    "    # Inserte acá su código para encontrar los valores máximos de la fuente de datos proyecciones en la columna \"\"\n",
    "    return [25000,5000000]"
   ]
  },
  {
   "cell_type": "markdown",
   "metadata": {},
   "source": [
    "### Fuente de datos Vuelos\n",
    "    ¿Cuantos duplicados totales y lógicos hay en la fuente de datos Vuelos?\n",
    "    ¿Cuantos formatos diferentes de fecha hay en la fuente de datos vuelos?"
   ]
  },
  {
   "cell_type": "code",
   "execution_count": null,
   "metadata": {},
   "outputs": [],
   "source": [
    "#Función que tiene como objetivo devolver la cantidad de duplicados lógicos que tienen la fuente de datos vuelos\n",
    "# Return: Un número. Ejemplo:5000\n",
    "# No cambiar el nombre de las funcion.\n",
    "def duplicadoslogicosVuelos():\n",
    "    # Inserte acá su código para encontrar la cantidad de duplicadod lógicos que tiene la fuente de datos vuelos\n",
    "    return 5003"
   ]
  },
  {
   "cell_type": "code",
   "execution_count": null,
   "metadata": {},
   "outputs": [],
   "source": [
    "#Función que tiene como objetivo devolver la cantidad de duplicados totales que tienen la fuente de datos Vuelos\n",
    "# Return: Un número. Ejemplo:5000\n",
    "# No cambiar el nombre de las funcion.\n",
    "def duplicadosTotalesVuelos():\n",
    "    # Inserte acá su código para encontrar la cantidad de duplicados totales que tiene la fuente de datos vuelos \n",
    "    return 5004"
   ]
  },
  {
   "cell_type": "code",
   "execution_count": null,
   "metadata": {},
   "outputs": [],
   "source": [
    "#Función que tiene como objetivo devolver la cantidad de formatos diferentes de fechas que tienen la fuente de datos Vuelos\n",
    "# Return: Un número. Ejemplo:123\n",
    "# No cambiar el nombre de las funcion.\n",
    "def formatosFecha():\n",
    "    # Inserte acá su código para encontrar la cantidad de formatos de fechas diferentes que tiene la fuente de datos vuelos \n",
    "    return 5005"
   ]
  },
  {
   "cell_type": "markdown",
   "metadata": {},
   "source": [
    "### Fuente de datos Aeropuertos\n",
    "    ¿Cuáles columnas constantes hay en la fuente de datos Aeropuertos?\n",
    "    ¿Cuantos valores vacios hay en todas las columnas de la fuente de datos aeropuertos? "
   ]
  },
  {
   "cell_type": "code",
   "execution_count": null,
   "metadata": {},
   "outputs": [],
   "source": [
    "#Función que tiene como objetivo devolver los nombres de las columnas cosntantes que tienen la fuente de datos Aeropuertos\n",
    "# Return: Array de strings. Ejemplo:[\"columna1\",\"columna2\",\"columna3\"] donde los nombres deben estar en minúscula\n",
    "# No cambiar el nombre de las funcion.\n",
    "def columnasConstantesAeropuertos():\n",
    "    # Inserte acá su código para encontrar los nombres de las columnas constantes que tiene la fuente de datos Aeropuertos\n",
    "    return [\"columna1\",\"columna2\",\"columna3\"]"
   ]
  },
  {
   "cell_type": "code",
   "execution_count": null,
   "metadata": {},
   "outputs": [],
   "source": [
    "#Función que tiene como objetivo devolver la cantidad de vacíos que tienen las columnas en la fuente de datos Aeropuertos\n",
    "# Return: \n",
    "#         Diccionario con llave el nombre de la columna y valor el número de vacíos. \n",
    "#         Ejemplo:{\"Columna1\":2300,\"Columna2\":5899,\"Columna\":12344}\n",
    "# No cambiar el nombre de las funcion.\n",
    "def vaciosAeropuertos():\n",
    "    # Inserte acá su código para encontrar la cantidad de vacíos que tienen las columnas en la fuente de datos Aeropuertos\n",
    "    return {\"columna1\":2300,\"columna2\":5899,\"columna\":12345}"
   ]
  },
  {
   "cell_type": "markdown",
   "metadata": {},
   "source": [
    "### Fuente de datos Divipola\n",
    "    ¿Cuales columnas Constantes hay en la fuente de datos Divipola?\n",
    "    ¿Cuantos nombres de departamento hay? "
   ]
  },
  {
   "cell_type": "code",
   "execution_count": null,
   "metadata": {},
   "outputs": [],
   "source": [
    "#Función que tiene como objetivo devolver los nombres de las columnas cosntantes que tienen la fuente de datos Divipola\n",
    "# Return: Array de strings. Ejemplo:[\"Columna1\",\"Columna2\",\"Columna3\"]\n",
    "# No cambiar el nombre de las funcion.\n",
    "def columnasConstantesDivipola():\n",
    "    # Inserte acá su código para encontrar los nombres de las columnas constantes que tiene la fuente de datos Divipola\n",
    "    return [\"Columna1\",\"Columna2\",\"Columna5\"]"
   ]
  },
  {
   "cell_type": "code",
   "execution_count": null,
   "metadata": {},
   "outputs": [],
   "source": [
    "# Función que tiene como objetivo devolver la cantidad de departamentos que tienen la fuente de datos Divipola\n",
    "# Return: Un número. Ejemplo:123\n",
    "# No cambiar el nombre de las funcion.\n",
    "def departamentosDivipola():\n",
    "    # Inserte acá su código para encontrar la cantidad de departamentos diferentes que tiene la fuente de datos Divipola \n",
    "    return 5006"
   ]
  },
  {
   "cell_type": "markdown",
   "metadata": {},
   "source": [
    "### Prueba de las funciones y respuestas:"
   ]
  },
  {
   "cell_type": "code",
   "execution_count": 8,
   "metadata": {
    "nbgrader": {
     "grade": true,
     "grade_id": "cell-b67bc1f0acaec1ee",
     "locked": true,
     "points": 10,
     "schema_version": 3,
     "solution": false,
     "task": false
    }
   },
   "outputs": [
    {
     "ename": "AssertionError",
     "evalue": "Error en la prueba de duplicados lógicos se esperaban 0 se obtuvo 5002",
     "output_type": "error",
     "traceback": [
      "\u001b[1;31m---------------------------------------------------------------------------\u001b[0m",
      "\u001b[1;31mAssertionError\u001b[0m                            Traceback (most recent call last)",
      "Input \u001b[1;32mIn [8]\u001b[0m, in \u001b[0;36m<cell line: 2>\u001b[1;34m()\u001b[0m\n\u001b[0;32m      1\u001b[0m rDuplicadosLogicos\u001b[38;5;241m=\u001b[39m\u001b[38;5;241m0\u001b[39m\n\u001b[1;32m----> 2\u001b[0m \u001b[38;5;28;01massert\u001b[39;00m duplicadoslogicos()\u001b[38;5;241m==\u001b[39mrDuplicadosLogicos, \u001b[38;5;124m\"\u001b[39m\u001b[38;5;124mError en la prueba de duplicados lógicos se esperaban \u001b[39m\u001b[38;5;124m\"\u001b[39m \u001b[38;5;241m+\u001b[39m \u001b[38;5;28mstr\u001b[39m(rDuplicadosLogicos) \u001b[38;5;241m+\u001b[39m \u001b[38;5;124m\"\u001b[39m\u001b[38;5;124m se obtuvo \u001b[39m\u001b[38;5;124m\"\u001b[39m \u001b[38;5;241m+\u001b[39m \u001b[38;5;28mstr\u001b[39m(duplicadoslogicos())\n\u001b[0;32m      3\u001b[0m \u001b[38;5;28mprint\u001b[39m(\u001b[38;5;124m\"\u001b[39m\u001b[38;5;124mSalió bien la prueba de duplicados lógicos de los datos PIB\u001b[39m\u001b[38;5;124m\"\u001b[39m)\n",
      "\u001b[1;31mAssertionError\u001b[0m: Error en la prueba de duplicados lógicos se esperaban 0 se obtuvo 5002"
     ]
    }
   ],
   "source": [
    "rDuplicadosLogicos=0\n",
    "assert duplicadoslogicos()==rDuplicadosLogicos, \"Error en la prueba de duplicados lógicos se esperaban \" + str(rDuplicadosLogicos) + \" se obtuvo \" + str(duplicadoslogicos())\n",
    "print(\"Salió bien la prueba de duplicados lógicos de los datos PIB\")"
   ]
  },
  {
   "cell_type": "code",
   "execution_count": null,
   "metadata": {},
   "outputs": [],
   "source": [
    "rDuplicadosTotales=10\n",
    "assert duplicadosTotales()==rDuplicadosTotales, \"Error en la prueba de duplicados totales se esperaban \" + str(rDuplicadosTotales) + \" se obtuvo \" + str(duplicadosTotales())\n",
    "print(\"Salió bien la prueba de duplicados totales de los datos PIB\")"
   ]
  },
  {
   "cell_type": "code",
   "execution_count": null,
   "metadata": {},
   "outputs": [],
   "source": [
    "# Función que tiene como objetivo verificar la respuesta dada por el estudiante con la respuesta correcta respecto a los años en la fuente PIB\n",
    "# Return: Un boolean. Ejemplo true si tiene todas las respuestas, false de lo contrario. \n",
    "# No cambiar el nombre ni tocar las funcion.\n",
    "rAniosEnPIB=['2006', '2007','2008', '2010', '2011', '2012', '2013', '2014']\n",
    "def comparar(aniosRespuesta,aniosRespuestaEstudiante):\n",
    "    if len(aniosRespuesta)!=len(aniosRespuestaEstudiante):\n",
    "        return False\n",
    "    for i in aniosRespuesta:\n",
    "        if not i in aniosRespuestaEstudiante:\n",
    "            return False\n",
    "        \n",
    "    return True\n",
    "\n",
    "assert comparar(rAniosEnPIB,aniosEnPIB()), \"Error en la prueba de años en PIB se esperaban \" +str(rAniosEnPIB)+ \" se obtuvo \" +str(aniosEnPIB())\n",
    "print(\"Salió bien la prueba de años de los datos PIB\")"
   ]
  },
  {
   "cell_type": "code",
   "execution_count": null,
   "metadata": {},
   "outputs": [],
   "source": [
    "rHombresDepart2014={'antioquia': 2930948, 'atlantico': 1153029, 'bogota, d.c.': 3476538, 'bolivar': 982494,\n",
    "                    'boyaca': 584185, 'caldas': 477526, 'caqueta': 202486, 'cauca': 698313,\n",
    "                    'cesar': 544408, 'cordoba': 851746, 'cundinamarca': 1211933, 'choco': 246978,\n",
    "                    'huila': 524405, 'la guajira': 385429, 'magdalena': 628812, 'meta': 492738,\n",
    "                    'nariño': 787396, 'norte de santander': 692774, 'quindio': 253680, 'risaralda': 444006,\n",
    "                    'santander': 1018556, 'sucre': 433385, 'tolima': 654966, 'valle del cauca': 2110069,\n",
    "                    'arauca': 121163, 'casanare': 197737, 'putumayo': 163476, 'archipielago de san andres': 29938,\n",
    "                    'amazonas': 37441, 'guainia': 22255, 'guaviare': 41413, 'vaupes': 19342, 'vichada': 52935}\n",
    "# Función que tiene como objetivo verificar la respuesta dada por el estudiante con la respuesta correcta respecto a los hombres en los departamentos\n",
    "# Return: Un boolean. Ejemplo true si tiene todas las respuestas, false de lo contrario. \n",
    "# No cambiar el nombre ni tocar las funcion.\n",
    "def compararDiccionario(rHombresDepart2014,eHombresDepart2014):\n",
    "    if len(rHombresDepart2014)!=len(eHombresDepart2014):\n",
    "        return False\n",
    "    for i in rHombresDepart2014.keys():\n",
    "        if not rHombresDepart2014[i]==eHombresDepart2014[i]:\n",
    "            return False\n",
    "    return True\n",
    "assert compararDiccionario(rHombresDepart2014,hombresDepart2014()), \"Error en la prueba de años en Proyecciones se esperaban \" +str(rHombresDepart2016)+ \" se obtuvo \" +str(hombresDepart2016())\n",
    "print(\"Salió bien la prueba de años de los datos Proyecciones\")"
   ]
  },
  {
   "cell_type": "code",
   "execution_count": null,
   "metadata": {},
   "outputs": [],
   "source": [
    "rValoresMaximos=[55000000, 3476538]\n",
    "# Función que tiene como objetivo verificar la respuesta dada por el estudiante con la respuesta correcta con respecto a los valores máximos en proyecciones\n",
    "# Return: Un boolean. Ejemplo true si tiene todas las respuestas, false de lo contrario. \n",
    "# No cambiar el nombre ni tocar las funcion.\n",
    "def compararValoresMaximos(rValoresMaximos,eValoresMaximos):\n",
    "    if len(rValoresMaximos)!=len(eValoresMaximos):\n",
    "        return False\n",
    "    for i in rValoresMaximos:\n",
    "        if not i in eValoresMaximos:\n",
    "            return False\n",
    "        \n",
    "    return True\n",
    "\n",
    "assert compararValoresMaximos(rValoresMaximos,valoresMaximos()), \"Error en la prueba de valores maximos en Proyecciones se esperaban \" +str(rValoresMaximos)+ \" se obtuvo \" +str(valoresMaximos())\n",
    "print(\"Salió bien la prueba de valores maximos en Proyecciones\")"
   ]
  },
  {
   "cell_type": "code",
   "execution_count": null,
   "metadata": {},
   "outputs": [],
   "source": [
    "rDuplicadosTotalesVuelos=51678\n",
    "assert duplicadosTotalesVuelos()==rDuplicadosTotalesVuelos, \"Error en la prueba de duplicados totales en vuelos se esperaban \" + str(rDuplicadosTotalesVuelos) + \" se obtuvo \" + str(duplicadosTotalesVuelos())\n",
    "print(\"Salió bien la prueba de duplicados totales en vuelos\")"
   ]
  },
  {
   "cell_type": "code",
   "execution_count": null,
   "metadata": {},
   "outputs": [],
   "source": [
    "rDuplicadosLogicosVuelos=250278\n",
    "assert duplicadoslogicosVuelos()==rDuplicadosLogicosVuelos, \"Error en la prueba de duplicados lógicos en vuelos se esperaban \" + str(rDuplicadosLogicosVuelos) + \" se obtuvo \" + str(duplicadoslogicosVuelos())\n",
    "print(\"Salió bien la prueba de duplicados lógicos en vuelos\")"
   ]
  },
  {
   "cell_type": "code",
   "execution_count": null,
   "metadata": {},
   "outputs": [],
   "source": [
    "rFormatosFecha=2\n",
    "assert formatosFecha()==rFormatosFecha, \"Error en la prueba de formato de fecha de vuelos se esperaban \" + str(rFormatosFecha) + \" se obtuvo \" + str(formatosFecha())\n",
    "print(\"Salió bien la prueba de formato de fecha de vuelo\")"
   ]
  },
  {
   "cell_type": "code",
   "execution_count": null,
   "metadata": {},
   "outputs": [],
   "source": [
    "rColConstantesAeropuertos=['categoria','latitud','longitud_pista','ancho_pista','orientacion']\n",
    "# Función que tiene como objetivo verificar la respuesta dada por el estudiante con la respuesta correcta de las columnas constantes en Aeropuertos\n",
    "# Return: Un boolean. Ejemplo true si tiene todas las respuestas, false de lo contrario. \n",
    "# No cambiar el nombre ni tocar las funcion.\n",
    "def compararColConstantesAeropuertos(rColConstantesAeropuertos,eColConstantesAeropuerto):\n",
    "    if len(rColConstantesAeropuertos)!=len(eColConstantesAeropuerto):\n",
    "        return False\n",
    "    for i in rColConstantesAeropuertos:\n",
    "        if not i in eColConstantesAeropuerto:\n",
    "            return False\n",
    "        \n",
    "    return True\n",
    "\n",
    "assert compararColConstantesAeropuertos(rColConstantesAeropuertos,columnasConstantesAeropuertos()), \"Error en la prueba de valores constantes en Aeropuertos se esperaban \" +str(rColConstantesAeropuertos)+ \" se obtuvo \" +str(columnasConstantesAeropuertos())\n",
    "print(\"Salió bien la prueba de valores constantes en Aeropuertos\")"
   ]
  },
  {
   "cell_type": "code",
   "execution_count": null,
   "metadata": {},
   "outputs": [],
   "source": [
    "rVaciosAeropuertos={'sigla': 0, 'iata': 482, 'nombre': 0, 'municipio': 0,\n",
    "                    'departamento': 0, 'categoria': 41, 'latitud': 0, 'longitud': 140,\n",
    "                    'propietario': 141, 'explotador': 141, 'longitud_pista': 0, 'ancho_pista': 0,\n",
    "                    'pbmo': 194, 'orientacion': 547, 'elevacion': 141, 'resolucion': 147,\n",
    "                    'fecha_construccion': 383, 'fecha_vigencia': 460, 'clase': 141, 'tipo': 141,\n",
    "                    'numero_vuelos_origen': 0, 'gcd_departamento': 0, 'gcd_municipio': 0}\n",
    "# Función que tiene como objetivo verificar la respuesta dada por el estudiante con la respuesta correcta con respecto a los vacíos de la fuente aeropuertos\n",
    "# Return: Un boolean. Ejemplo true si tiene todas las respuestas, false de lo contrario. \n",
    "# No cambiar el nombre ni tocar las funcion.\n",
    "def compararDiccionarioVaciosAeropuertos(rVaciosAeropuertos,eVaciosAeropuertos):\n",
    "    if len(rVaciosAeropuertos)!=len(eVaciosAeropuertos):\n",
    "        return False\n",
    "    for i in rVaciosAeropuertos.keys():\n",
    "        if not rVaciosAeropuertos[i]==eVaciosAeropuertos[i]:\n",
    "            return False\n",
    "    return True\n",
    "assert compararDiccionarioVaciosAeropuertos(rVaciosAeropuertos,vaciosAeropuertos()), \"Error en la prueba de vacíos en Aeropuertos se esperaban \" +str(rVaciosAeropuertos)+ \" se obtuvo \" +str(vaciosAeropuertos())\n",
    "print(\"Salió bien la prueba de vacíos en Aeropuertos\")"
   ]
  },
  {
   "cell_type": "code",
   "execution_count": null,
   "metadata": {},
   "outputs": [],
   "source": [
    "rColConstantesDivipola=['Código Departamento','Nombre Municipio']\n",
    "# Función que tiene como objetivo verificar la respuesta dada por el estudiante con la respuesta correcta de los valores constantes en la fuente Divipola\n",
    "# Return: Un boolean. Ejemplo true si tiene todas las respuestas, false de lo contrario. \n",
    "# No cambiar el nombre ni tocar las funcion.\n",
    "def compararColConstantesDivipola(rColConstantesDivipola,eColConstantesDivipola):\n",
    "    if len(rColConstantesDivipola)!=len(eColConstantesDivipola):\n",
    "        return False\n",
    "    for i in rColConstantesDivipola:\n",
    "        if not i in eColConstantesDivipola:\n",
    "            return False\n",
    "        \n",
    "    return True\n",
    "\n",
    "assert compararColConstantesDivipola(rColConstantesDivipola,columnasConstantesDivipola()), \"Error en la prueba de valores constantes en Divipola se esperaban \" +str(rColConstantesDivipola)+ \" se obtuvo \" +str(columnasConstantesDivipola())\n",
    "print(\"Salió bien la prueba de valores constantes en Divipola\")"
   ]
  },
  {
   "cell_type": "code",
   "execution_count": null,
   "metadata": {},
   "outputs": [],
   "source": [
    "rdepartamentosDivipola=64\n",
    "assert departamentosDivipola()==rdepartamentosDivipola, \"Error en la prueba de departamentos de la fuente divipola se esperaban \" + str(rdepartamentosDivipola) + \" se obtuvo \" + str(departamentosDivipola())\n",
    "print(\"Salió bien la prueba de departamentos de la fuente divipola\")"
   ]
  },
  {
   "cell_type": "code",
   "execution_count": null,
   "metadata": {},
   "outputs": [],
   "source": []
  }
 ],
 "metadata": {
  "celltoolbar": "Create Assignment",
  "kernelspec": {
   "display_name": "Python 3 (ipykernel)",
   "language": "python",
   "name": "python3"
  },
  "language_info": {
   "codemirror_mode": {
    "name": "ipython",
    "version": 3
   },
   "file_extension": ".py",
   "mimetype": "text/x-python",
   "name": "python",
   "nbconvert_exporter": "python",
   "pygments_lexer": "ipython3",
   "version": "3.9.12"
  }
 },
 "nbformat": 4,
 "nbformat_minor": 4
}
